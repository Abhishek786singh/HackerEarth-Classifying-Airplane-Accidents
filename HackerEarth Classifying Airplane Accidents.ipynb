{
 "cells": [
  {
   "cell_type": "markdown",
   "metadata": {},
   "source": [
    "## HackerEarth Machine Learning challenge:Calculate the severity of an airplane accident\n"
   ]
  },
  {
   "cell_type": "markdown",
   "metadata": {},
   "source": [
    "# This challenge will encourage you to apply your Machine Learning skills to build models that can anticipate the severity of any airplane accident\n",
    "##This challenge will help you enhance your knowledge of classification actively. Classification is one of the basic building blocks of Machine Learning"
   ]
  },
  {
   "cell_type": "code",
   "execution_count": 38,
   "metadata": {},
   "outputs": [
    {
     "name": "stderr",
     "output_type": "stream",
     "text": [
      "UsageError: Line magic function `%matplot.inline` not found.\n"
     ]
    }
   ],
   "source": [
    "# import pandas as pd\n",
    "import numpy as np\n",
    "import matplotlib.pyplot as plt\n",
    "%matplot.inline\n",
    "import seaborn as sns\n",
    "import datetime as dt"
   ]
  },
  {
   "cell_type": "markdown",
   "metadata": {},
   "source": [
    "## Reading the files"
   ]
  },
  {
   "cell_type": "code",
   "execution_count": 2,
   "metadata": {},
   "outputs": [
    {
     "data": {
      "text/html": [
       "<div>\n",
       "<style scoped>\n",
       "    .dataframe tbody tr th:only-of-type {\n",
       "        vertical-align: middle;\n",
       "    }\n",
       "\n",
       "    .dataframe tbody tr th {\n",
       "        vertical-align: top;\n",
       "    }\n",
       "\n",
       "    .dataframe thead th {\n",
       "        text-align: right;\n",
       "    }\n",
       "</style>\n",
       "<table border=\"1\" class=\"dataframe\">\n",
       "  <thead>\n",
       "    <tr style=\"text-align: right;\">\n",
       "      <th></th>\n",
       "      <th>Severity</th>\n",
       "      <th>Safety_Score</th>\n",
       "      <th>Days_Since_Inspection</th>\n",
       "      <th>Total_Safety_Complaints</th>\n",
       "      <th>Control_Metric</th>\n",
       "      <th>Turbulence_In_gforces</th>\n",
       "      <th>Cabin_Temperature</th>\n",
       "      <th>Accident_Type_Code</th>\n",
       "      <th>Max_Elevation</th>\n",
       "      <th>Violations</th>\n",
       "      <th>Adverse_Weather_Metric</th>\n",
       "      <th>Accident_ID</th>\n",
       "    </tr>\n",
       "  </thead>\n",
       "  <tbody>\n",
       "    <tr>\n",
       "      <th>0</th>\n",
       "      <td>Minor_Damage_And_Injuries</td>\n",
       "      <td>49.223744</td>\n",
       "      <td>14</td>\n",
       "      <td>22</td>\n",
       "      <td>71.285324</td>\n",
       "      <td>0.272118</td>\n",
       "      <td>78.04</td>\n",
       "      <td>2</td>\n",
       "      <td>31335.476824</td>\n",
       "      <td>3</td>\n",
       "      <td>0.424352</td>\n",
       "      <td>7570</td>\n",
       "    </tr>\n",
       "    <tr>\n",
       "      <th>1</th>\n",
       "      <td>Minor_Damage_And_Injuries</td>\n",
       "      <td>62.465753</td>\n",
       "      <td>10</td>\n",
       "      <td>27</td>\n",
       "      <td>72.288058</td>\n",
       "      <td>0.423939</td>\n",
       "      <td>84.54</td>\n",
       "      <td>2</td>\n",
       "      <td>26024.711057</td>\n",
       "      <td>2</td>\n",
       "      <td>0.352350</td>\n",
       "      <td>12128</td>\n",
       "    </tr>\n",
       "    <tr>\n",
       "      <th>2</th>\n",
       "      <td>Significant_Damage_And_Fatalities</td>\n",
       "      <td>63.059361</td>\n",
       "      <td>13</td>\n",
       "      <td>16</td>\n",
       "      <td>66.362808</td>\n",
       "      <td>0.322604</td>\n",
       "      <td>78.86</td>\n",
       "      <td>7</td>\n",
       "      <td>39269.053927</td>\n",
       "      <td>3</td>\n",
       "      <td>0.003364</td>\n",
       "      <td>2181</td>\n",
       "    </tr>\n",
       "    <tr>\n",
       "      <th>3</th>\n",
       "      <td>Significant_Damage_And_Serious_Injuries</td>\n",
       "      <td>48.082192</td>\n",
       "      <td>11</td>\n",
       "      <td>9</td>\n",
       "      <td>74.703737</td>\n",
       "      <td>0.337029</td>\n",
       "      <td>81.79</td>\n",
       "      <td>3</td>\n",
       "      <td>42771.499200</td>\n",
       "      <td>1</td>\n",
       "      <td>0.211728</td>\n",
       "      <td>5946</td>\n",
       "    </tr>\n",
       "    <tr>\n",
       "      <th>4</th>\n",
       "      <td>Significant_Damage_And_Fatalities</td>\n",
       "      <td>26.484018</td>\n",
       "      <td>13</td>\n",
       "      <td>25</td>\n",
       "      <td>47.948952</td>\n",
       "      <td>0.541140</td>\n",
       "      <td>77.16</td>\n",
       "      <td>3</td>\n",
       "      <td>35509.228515</td>\n",
       "      <td>2</td>\n",
       "      <td>0.176883</td>\n",
       "      <td>9054</td>\n",
       "    </tr>\n",
       "  </tbody>\n",
       "</table>\n",
       "</div>"
      ],
      "text/plain": [
       "                                  Severity  Safety_Score  \\\n",
       "0                Minor_Damage_And_Injuries     49.223744   \n",
       "1                Minor_Damage_And_Injuries     62.465753   \n",
       "2        Significant_Damage_And_Fatalities     63.059361   \n",
       "3  Significant_Damage_And_Serious_Injuries     48.082192   \n",
       "4        Significant_Damage_And_Fatalities     26.484018   \n",
       "\n",
       "   Days_Since_Inspection  Total_Safety_Complaints  Control_Metric  \\\n",
       "0                     14                       22       71.285324   \n",
       "1                     10                       27       72.288058   \n",
       "2                     13                       16       66.362808   \n",
       "3                     11                        9       74.703737   \n",
       "4                     13                       25       47.948952   \n",
       "\n",
       "   Turbulence_In_gforces  Cabin_Temperature  Accident_Type_Code  \\\n",
       "0               0.272118              78.04                   2   \n",
       "1               0.423939              84.54                   2   \n",
       "2               0.322604              78.86                   7   \n",
       "3               0.337029              81.79                   3   \n",
       "4               0.541140              77.16                   3   \n",
       "\n",
       "   Max_Elevation  Violations  Adverse_Weather_Metric  Accident_ID  \n",
       "0   31335.476824           3                0.424352         7570  \n",
       "1   26024.711057           2                0.352350        12128  \n",
       "2   39269.053927           3                0.003364         2181  \n",
       "3   42771.499200           1                0.211728         5946  \n",
       "4   35509.228515           2                0.176883         9054  "
      ]
     },
     "execution_count": 2,
     "metadata": {},
     "output_type": "execute_result"
    }
   ],
   "source": [
    "train = pd.read_csv(\"C:/Users/User/Desktop/ML hub/HackerEarth problem on ML/train.csv\")\n",
    "test = pd.read_csv(\"C:/Users/User/Desktop/ML hub/HackerEarth problem on ML/test.csv\")\n",
    "sample_submission = pd.read_csv(\"C:/Users/User/Desktop/ML hub/HackerEarth problem on ML/sample_submission.csv\")\n",
    "train.head()"
   ]
  },
  {
   "cell_type": "markdown",
   "metadata": {},
   "source": [
    "## EDA"
   ]
  },
  {
   "cell_type": "code",
   "execution_count": 8,
   "metadata": {},
   "outputs": [
    {
     "data": {
      "text/plain": [
       "Severity                   0\n",
       "Safety_Score               0\n",
       "Days_Since_Inspection      0\n",
       "Total_Safety_Complaints    0\n",
       "Control_Metric             0\n",
       "Turbulence_In_gforces      0\n",
       "Cabin_Temperature          0\n",
       "Accident_Type_Code         0\n",
       "Max_Elevation              0\n",
       "Violations                 0\n",
       "Adverse_Weather_Metric     0\n",
       "Accident_ID                0\n",
       "dtype: int64"
      ]
     },
     "execution_count": 8,
     "metadata": {},
     "output_type": "execute_result"
    }
   ],
   "source": [
    "## we have to perform EDA to understand the data\n",
    "train.isnull().sum()"
   ]
  },
  {
   "cell_type": "code",
   "execution_count": 4,
   "metadata": {},
   "outputs": [
    {
     "name": "stdout",
     "output_type": "stream",
     "text": [
      "<class 'pandas.core.frame.DataFrame'>\n",
      "RangeIndex: 10000 entries, 0 to 9999\n",
      "Data columns (total 12 columns):\n",
      "Severity                   10000 non-null object\n",
      "Safety_Score               10000 non-null float64\n",
      "Days_Since_Inspection      10000 non-null int64\n",
      "Total_Safety_Complaints    10000 non-null int64\n",
      "Control_Metric             10000 non-null float64\n",
      "Turbulence_In_gforces      10000 non-null float64\n",
      "Cabin_Temperature          10000 non-null float64\n",
      "Accident_Type_Code         10000 non-null int64\n",
      "Max_Elevation              10000 non-null float64\n",
      "Violations                 10000 non-null int64\n",
      "Adverse_Weather_Metric     10000 non-null float64\n",
      "Accident_ID                10000 non-null int64\n",
      "dtypes: float64(6), int64(5), object(1)\n",
      "memory usage: 937.6+ KB\n"
     ]
    }
   ],
   "source": [
    "train.info()"
   ]
  },
  {
   "cell_type": "code",
   "execution_count": 6,
   "metadata": {},
   "outputs": [
    {
     "data": {
      "text/plain": [
       "<matplotlib.axes._subplots.AxesSubplot at 0x20e3ba1e748>"
      ]
     },
     "execution_count": 6,
     "metadata": {},
     "output_type": "execute_result"
    },
    {
     "data": {
      "image/png": "[encoded data removed]",
      "text/plain": [
       "<Figure size 432x288 with 1 Axes>"
      ]
     },
     "metadata": {
      "needs_background": "light"
     },
     "output_type": "display_data"
    }
   ],
   "source": [
    "train.plot()"
   ]
  },
  {
   "cell_type": "code",
   "execution_count": 7,
   "metadata": {},
   "outputs": [
    {
     "data": {
      "text/html": [
       "<div>\n",
       "<style scoped>\n",
       "    .dataframe tbody tr th:only-of-type {\n",
       "        vertical-align: middle;\n",
       "    }\n",
       "\n",
       "    .dataframe tbody tr th {\n",
       "        vertical-align: top;\n",
       "    }\n",
       "\n",
       "    .dataframe thead th {\n",
       "        text-align: right;\n",
       "    }\n",
       "</style>\n",
       "<table border=\"1\" class=\"dataframe\">\n",
       "  <thead>\n",
       "    <tr style=\"text-align: right;\">\n",
       "      <th></th>\n",
       "      <th>Safety_Score</th>\n",
       "      <th>Days_Since_Inspection</th>\n",
       "      <th>Total_Safety_Complaints</th>\n",
       "      <th>Control_Metric</th>\n",
       "      <th>Turbulence_In_gforces</th>\n",
       "      <th>Cabin_Temperature</th>\n",
       "      <th>Accident_Type_Code</th>\n",
       "      <th>Max_Elevation</th>\n",
       "      <th>Violations</th>\n",
       "      <th>Adverse_Weather_Metric</th>\n",
       "      <th>Accident_ID</th>\n",
       "    </tr>\n",
       "  </thead>\n",
       "  <tbody>\n",
       "    <tr>\n",
       "      <th>Safety_Score</th>\n",
       "      <td>1.000000</td>\n",
       "      <td>-0.685386</td>\n",
       "      <td>0.057726</td>\n",
       "      <td>0.000564</td>\n",
       "      <td>0.019603</td>\n",
       "      <td>0.032747</td>\n",
       "      <td>0.173930</td>\n",
       "      <td>0.004451</td>\n",
       "      <td>0.041735</td>\n",
       "      <td>-0.107925</td>\n",
       "      <td>-0.001334</td>\n",
       "    </tr>\n",
       "    <tr>\n",
       "      <th>Days_Since_Inspection</th>\n",
       "      <td>-0.685386</td>\n",
       "      <td>1.000000</td>\n",
       "      <td>-0.032055</td>\n",
       "      <td>-0.011963</td>\n",
       "      <td>-0.001564</td>\n",
       "      <td>-0.039140</td>\n",
       "      <td>-0.024718</td>\n",
       "      <td>0.000183</td>\n",
       "      <td>-0.016724</td>\n",
       "      <td>0.040804</td>\n",
       "      <td>0.000582</td>\n",
       "    </tr>\n",
       "    <tr>\n",
       "      <th>Total_Safety_Complaints</th>\n",
       "      <td>0.057726</td>\n",
       "      <td>-0.032055</td>\n",
       "      <td>1.000000</td>\n",
       "      <td>-0.019665</td>\n",
       "      <td>0.066412</td>\n",
       "      <td>0.013590</td>\n",
       "      <td>0.034927</td>\n",
       "      <td>0.036855</td>\n",
       "      <td>-0.019005</td>\n",
       "      <td>-0.002713</td>\n",
       "      <td>0.004527</td>\n",
       "    </tr>\n",
       "    <tr>\n",
       "      <th>Control_Metric</th>\n",
       "      <td>0.000564</td>\n",
       "      <td>-0.011963</td>\n",
       "      <td>-0.019665</td>\n",
       "      <td>1.000000</td>\n",
       "      <td>-0.643285</td>\n",
       "      <td>-0.008330</td>\n",
       "      <td>0.008385</td>\n",
       "      <td>-0.028375</td>\n",
       "      <td>-0.003284</td>\n",
       "      <td>-0.028296</td>\n",
       "      <td>0.006481</td>\n",
       "    </tr>\n",
       "    <tr>\n",
       "      <th>Turbulence_In_gforces</th>\n",
       "      <td>0.019603</td>\n",
       "      <td>-0.001564</td>\n",
       "      <td>0.066412</td>\n",
       "      <td>-0.643285</td>\n",
       "      <td>1.000000</td>\n",
       "      <td>0.010757</td>\n",
       "      <td>-0.007565</td>\n",
       "      <td>0.047625</td>\n",
       "      <td>0.013171</td>\n",
       "      <td>0.039802</td>\n",
       "      <td>-0.014396</td>\n",
       "    </tr>\n",
       "    <tr>\n",
       "      <th>Cabin_Temperature</th>\n",
       "      <td>0.032747</td>\n",
       "      <td>-0.039140</td>\n",
       "      <td>0.013590</td>\n",
       "      <td>-0.008330</td>\n",
       "      <td>0.010757</td>\n",
       "      <td>1.000000</td>\n",
       "      <td>0.030682</td>\n",
       "      <td>-0.009186</td>\n",
       "      <td>0.018619</td>\n",
       "      <td>-0.026647</td>\n",
       "      <td>0.014865</td>\n",
       "    </tr>\n",
       "    <tr>\n",
       "      <th>Accident_Type_Code</th>\n",
       "      <td>0.173930</td>\n",
       "      <td>-0.024718</td>\n",
       "      <td>0.034927</td>\n",
       "      <td>0.008385</td>\n",
       "      <td>-0.007565</td>\n",
       "      <td>0.030682</td>\n",
       "      <td>1.000000</td>\n",
       "      <td>0.019970</td>\n",
       "      <td>0.046379</td>\n",
       "      <td>-0.739361</td>\n",
       "      <td>-0.012278</td>\n",
       "    </tr>\n",
       "    <tr>\n",
       "      <th>Max_Elevation</th>\n",
       "      <td>0.004451</td>\n",
       "      <td>0.000183</td>\n",
       "      <td>0.036855</td>\n",
       "      <td>-0.028375</td>\n",
       "      <td>0.047625</td>\n",
       "      <td>-0.009186</td>\n",
       "      <td>0.019970</td>\n",
       "      <td>1.000000</td>\n",
       "      <td>-0.030513</td>\n",
       "      <td>0.173436</td>\n",
       "      <td>0.008576</td>\n",
       "    </tr>\n",
       "    <tr>\n",
       "      <th>Violations</th>\n",
       "      <td>0.041735</td>\n",
       "      <td>-0.016724</td>\n",
       "      <td>-0.019005</td>\n",
       "      <td>-0.003284</td>\n",
       "      <td>0.013171</td>\n",
       "      <td>0.018619</td>\n",
       "      <td>0.046379</td>\n",
       "      <td>-0.030513</td>\n",
       "      <td>1.000000</td>\n",
       "      <td>-0.021578</td>\n",
       "      <td>-0.002047</td>\n",
       "    </tr>\n",
       "    <tr>\n",
       "      <th>Adverse_Weather_Metric</th>\n",
       "      <td>-0.107925</td>\n",
       "      <td>0.040804</td>\n",
       "      <td>-0.002713</td>\n",
       "      <td>-0.028296</td>\n",
       "      <td>0.039802</td>\n",
       "      <td>-0.026647</td>\n",
       "      <td>-0.739361</td>\n",
       "      <td>0.173436</td>\n",
       "      <td>-0.021578</td>\n",
       "      <td>1.000000</td>\n",
       "      <td>0.008586</td>\n",
       "    </tr>\n",
       "    <tr>\n",
       "      <th>Accident_ID</th>\n",
       "      <td>-0.001334</td>\n",
       "      <td>0.000582</td>\n",
       "      <td>0.004527</td>\n",
       "      <td>0.006481</td>\n",
       "      <td>-0.014396</td>\n",
       "      <td>0.014865</td>\n",
       "      <td>-0.012278</td>\n",
       "      <td>0.008576</td>\n",
       "      <td>-0.002047</td>\n",
       "      <td>0.008586</td>\n",
       "      <td>1.000000</td>\n",
       "    </tr>\n",
       "  </tbody>\n",
       "</table>\n",
       "</div>"
      ],
      "text/plain": [
       "                         Safety_Score  Days_Since_Inspection  \\\n",
       "Safety_Score                 1.000000              -0.685386   \n",
       "Days_Since_Inspection       -0.685386               1.000000   \n",
       "Total_Safety_Complaints      0.057726              -0.032055   \n",
       "Control_Metric               0.000564              -0.011963   \n",
       "Turbulence_In_gforces        0.019603              -0.001564   \n",
       "Cabin_Temperature            0.032747              -0.039140   \n",
       "Accident_Type_Code           0.173930              -0.024718   \n",
       "Max_Elevation                0.004451               0.000183   \n",
       "Violations                   0.041735              -0.016724   \n",
       "Adverse_Weather_Metric      -0.107925               0.040804   \n",
       "Accident_ID                 -0.001334               0.000582   \n",
       "\n",
       "                         Total_Safety_Complaints  Control_Metric  \\\n",
       "Safety_Score                            0.057726        0.000564   \n",
       "Days_Since_Inspection                  -0.032055       -0.011963   \n",
       "Total_Safety_Complaints                 1.000000       -0.019665   \n",
       "Control_Metric                         -0.019665        1.000000   \n",
       "Turbulence_In_gforces                   0.066412       -0.643285   \n",
       "Cabin_Temperature                       0.013590       -0.008330   \n",
       "Accident_Type_Code                      0.034927        0.008385   \n",
       "Max_Elevation                           0.036855       -0.028375   \n",
       "Violations                             -0.019005       -0.003284   \n",
       "Adverse_Weather_Metric                 -0.002713       -0.028296   \n",
       "Accident_ID                             0.004527        0.006481   \n",
       "\n",
       "                         Turbulence_In_gforces  Cabin_Temperature  \\\n",
       "Safety_Score                          0.019603           0.032747   \n",
       "Days_Since_Inspection                -0.001564          -0.039140   \n",
       "Total_Safety_Complaints               0.066412           0.013590   \n",
       "Control_Metric                       -0.643285          -0.008330   \n",
       "Turbulence_In_gforces                 1.000000           0.010757   \n",
       "Cabin_Temperature                     0.010757           1.000000   \n",
       "Accident_Type_Code                   -0.007565           0.030682   \n",
       "Max_Elevation                         0.047625          -0.009186   \n",
       "Violations                            0.013171           0.018619   \n",
       "Adverse_Weather_Metric                0.039802          -0.026647   \n",
       "Accident_ID                          -0.014396           0.014865   \n",
       "\n",
       "                         Accident_Type_Code  Max_Elevation  Violations  \\\n",
       "Safety_Score                       0.173930       0.004451    0.041735   \n",
       "Days_Since_Inspection             -0.024718       0.000183   -0.016724   \n",
       "Total_Safety_Complaints            0.034927       0.036855   -0.019005   \n",
       "Control_Metric                     0.008385      -0.028375   -0.003284   \n",
       "Turbulence_In_gforces             -0.007565       0.047625    0.013171   \n",
       "Cabin_Temperature                  0.030682      -0.009186    0.018619   \n",
       "Accident_Type_Code                 1.000000       0.019970    0.046379   \n",
       "Max_Elevation                      0.019970       1.000000   -0.030513   \n",
       "Violations                         0.046379      -0.030513    1.000000   \n",
       "Adverse_Weather_Metric            -0.739361       0.173436   -0.021578   \n",
       "Accident_ID                       -0.012278       0.008576   -0.002047   \n",
       "\n",
       "                         Adverse_Weather_Metric  Accident_ID  \n",
       "Safety_Score                          -0.107925    -0.001334  \n",
       "Days_Since_Inspection                  0.040804     0.000582  \n",
       "Total_Safety_Complaints               -0.002713     0.004527  \n",
       "Control_Metric                        -0.028296     0.006481  \n",
       "Turbulence_In_gforces                  0.039802    -0.014396  \n",
       "Cabin_Temperature                     -0.026647     0.014865  \n",
       "Accident_Type_Code                    -0.739361    -0.012278  \n",
       "Max_Elevation                          0.173436     0.008576  \n",
       "Violations                            -0.021578    -0.002047  \n",
       "Adverse_Weather_Metric                 1.000000     0.008586  \n",
       "Accident_ID                            0.008586     1.000000  "
      ]
     },
     "execution_count": 7,
     "metadata": {},
     "output_type": "execute_result"
    }
   ],
   "source": [
    "train.corr()"
   ]
  },
  {
   "cell_type": "markdown",
   "metadata": {},
   "source": [
    "## Data Visualization"
   ]
  },
  {
   "cell_type": "code",
   "execution_count": 10,
   "metadata": {},
   "outputs": [
    {
     "data": {
      "text/plain": [
       "<seaborn.axisgrid.FacetGrid at 0x20e4c85db00>"
      ]
     },
     "execution_count": 10,
     "metadata": {},
     "output_type": "execute_result"
    },
    {
     "data": {
      "image/png": "[encoded data removed]",
      "text/plain": [
       "<Figure size 360x360 with 1 Axes>"
      ]
     },
     "metadata": {
      "needs_background": "light"
     },
     "output_type": "display_data"
    }
   ],
   "source": [
    "## target is Severity\n",
    "#bar chart \n",
    "sns.catplot(x = 'Severity', kind = 'count', data = train).set_xticklabels(rotation=30, ha='right')\n"
   ]
  },
  {
   "cell_type": "code",
   "execution_count": 11,
   "metadata": {},
   "outputs": [
    {
     "data": {
      "text/plain": [
       "<matplotlib.axes._subplots.AxesSubplot at 0x20e4d1ab390>"
      ]
     },
     "execution_count": 11,
     "metadata": {},
     "output_type": "execute_result"
    },
    {
     "data": {
      "image/png": "[encoded data removed]",
      "text/plain": [
       "<Figure size 1224x576 with 10 Axes>"
      ]
     },
     "metadata": {
      "needs_background": "light"
     },
     "output_type": "display_data"
    }
   ],
   "source": [
    "#Feature Variables\n",
    "#Histogram\n",
    "f, ax = plt.subplots(2,5, figsize=(17, 8))\n",
    "sns.distplot(train['Safety_Score'],ax = ax[0,0], kde = False)\n",
    "sns.distplot(train['Days_Since_Inspection'],ax = ax[0,1], kde = False)\n",
    "sns.distplot(train['Total_Safety_Complaints'],ax = ax[0,2], kde = False)\n",
    "sns.distplot(train['Control_Metric'],ax = ax[0,3], kde = False)\n",
    "sns.distplot(train['Turbulence_In_gforces'],ax = ax[0,4], kde = False)\n",
    "sns.distplot(train['Violations'],ax = ax[1,0], kde = False)\n",
    "sns.distplot(train['Cabin_Temperature'],ax = ax[1,1], kde = False)\n",
    "sns.distplot(train['Accident_Type_Code'],ax = ax[1,2], kde = False)\n",
    "sns.distplot(train['Max_Elevation'],ax = ax[1,3], kde = False)\n",
    "sns.distplot(train['Adverse_Weather_Metric'],ax = ax[1,4], kde = False)\n"
   ]
  },
  {
   "cell_type": "code",
   "execution_count": 12,
   "metadata": {},
   "outputs": [
    {
     "data": {
      "text/plain": [
       "<seaborn.axisgrid.FacetGrid at 0x20e4da707b8>"
      ]
     },
     "execution_count": 12,
     "metadata": {},
     "output_type": "execute_result"
    },
    {
     "data": {
      "image/png": "[encoded data removed]",
      "text/plain": [
       "<Figure size 360x360 with 1 Axes>"
      ]
     },
     "metadata": {
      "needs_background": "light"
     },
     "output_type": "display_data"
    }
   ],
   "source": [
    "## now for understanding that if thier is any outliers are parsent\n",
    "sns.catplot(x = 'Severity',y = 'Safety_Score', kind = 'box', data =train).set_xticklabels(rotation=30, ha='right')"
   ]
  },
  {
   "cell_type": "code",
   "execution_count": 13,
   "metadata": {},
   "outputs": [
    {
     "data": {
      "text/plain": [
       "<seaborn.axisgrid.FacetGrid at 0x20e4da4f7f0>"
      ]
     },
     "execution_count": 13,
     "metadata": {},
     "output_type": "execute_result"
    },
    {
     "data": {
      "image/png": "[encoded data removed]",
      "text/plain": [
       "<Figure size 360x360 with 1 Axes>"
      ]
     },
     "metadata": {
      "needs_background": "light"
     },
     "output_type": "display_data"
    }
   ],
   "source": [
    "sns.catplot(x = 'Severity',y = 'Control_Metric', kind = 'box', data =train).set_xticklabels(rotation=30, ha='right')"
   ]
  },
  {
   "cell_type": "markdown",
   "metadata": {},
   "source": [
    "## feature engineering"
   ]
  },
  {
   "cell_type": "code",
   "execution_count": 14,
   "metadata": {},
   "outputs": [],
   "source": [
    "# this is one of the most import step\n",
    "factor = pd.factorize(train['Severity'])"
   ]
  },
  {
   "cell_type": "code",
   "execution_count": 15,
   "metadata": {},
   "outputs": [
    {
     "data": {
      "text/html": [
       "<div>\n",
       "<style scoped>\n",
       "    .dataframe tbody tr th:only-of-type {\n",
       "        vertical-align: middle;\n",
       "    }\n",
       "\n",
       "    .dataframe tbody tr th {\n",
       "        vertical-align: top;\n",
       "    }\n",
       "\n",
       "    .dataframe thead th {\n",
       "        text-align: right;\n",
       "    }\n",
       "</style>\n",
       "<table border=\"1\" class=\"dataframe\">\n",
       "  <thead>\n",
       "    <tr style=\"text-align: right;\">\n",
       "      <th></th>\n",
       "      <th>Severity</th>\n",
       "      <th>Safety_Score</th>\n",
       "      <th>Days_Since_Inspection</th>\n",
       "      <th>Total_Safety_Complaints</th>\n",
       "      <th>Control_Metric</th>\n",
       "      <th>Turbulence_In_gforces</th>\n",
       "      <th>Cabin_Temperature</th>\n",
       "      <th>Accident_Type_Code</th>\n",
       "      <th>Max_Elevation</th>\n",
       "      <th>Violations</th>\n",
       "      <th>Adverse_Weather_Metric</th>\n",
       "      <th>Accident_ID</th>\n",
       "    </tr>\n",
       "  </thead>\n",
       "  <tbody>\n",
       "    <tr>\n",
       "      <th>0</th>\n",
       "      <td>0</td>\n",
       "      <td>49.223744</td>\n",
       "      <td>14</td>\n",
       "      <td>22</td>\n",
       "      <td>71.285324</td>\n",
       "      <td>0.272118</td>\n",
       "      <td>78.04</td>\n",
       "      <td>2</td>\n",
       "      <td>31335.476824</td>\n",
       "      <td>3</td>\n",
       "      <td>0.424352</td>\n",
       "      <td>7570</td>\n",
       "    </tr>\n",
       "    <tr>\n",
       "      <th>1</th>\n",
       "      <td>0</td>\n",
       "      <td>62.465753</td>\n",
       "      <td>10</td>\n",
       "      <td>27</td>\n",
       "      <td>72.288058</td>\n",
       "      <td>0.423939</td>\n",
       "      <td>84.54</td>\n",
       "      <td>2</td>\n",
       "      <td>26024.711057</td>\n",
       "      <td>2</td>\n",
       "      <td>0.352350</td>\n",
       "      <td>12128</td>\n",
       "    </tr>\n",
       "    <tr>\n",
       "      <th>2</th>\n",
       "      <td>1</td>\n",
       "      <td>63.059361</td>\n",
       "      <td>13</td>\n",
       "      <td>16</td>\n",
       "      <td>66.362808</td>\n",
       "      <td>0.322604</td>\n",
       "      <td>78.86</td>\n",
       "      <td>7</td>\n",
       "      <td>39269.053927</td>\n",
       "      <td>3</td>\n",
       "      <td>0.003364</td>\n",
       "      <td>2181</td>\n",
       "    </tr>\n",
       "    <tr>\n",
       "      <th>3</th>\n",
       "      <td>2</td>\n",
       "      <td>48.082192</td>\n",
       "      <td>11</td>\n",
       "      <td>9</td>\n",
       "      <td>74.703737</td>\n",
       "      <td>0.337029</td>\n",
       "      <td>81.79</td>\n",
       "      <td>3</td>\n",
       "      <td>42771.499200</td>\n",
       "      <td>1</td>\n",
       "      <td>0.211728</td>\n",
       "      <td>5946</td>\n",
       "    </tr>\n",
       "    <tr>\n",
       "      <th>4</th>\n",
       "      <td>1</td>\n",
       "      <td>26.484018</td>\n",
       "      <td>13</td>\n",
       "      <td>25</td>\n",
       "      <td>47.948952</td>\n",
       "      <td>0.541140</td>\n",
       "      <td>77.16</td>\n",
       "      <td>3</td>\n",
       "      <td>35509.228515</td>\n",
       "      <td>2</td>\n",
       "      <td>0.176883</td>\n",
       "      <td>9054</td>\n",
       "    </tr>\n",
       "  </tbody>\n",
       "</table>\n",
       "</div>"
      ],
      "text/plain": [
       "   Severity  Safety_Score  Days_Since_Inspection  Total_Safety_Complaints  \\\n",
       "0         0     49.223744                     14                       22   \n",
       "1         0     62.465753                     10                       27   \n",
       "2         1     63.059361                     13                       16   \n",
       "3         2     48.082192                     11                        9   \n",
       "4         1     26.484018                     13                       25   \n",
       "\n",
       "   Control_Metric  Turbulence_In_gforces  Cabin_Temperature  \\\n",
       "0       71.285324               0.272118              78.04   \n",
       "1       72.288058               0.423939              84.54   \n",
       "2       66.362808               0.322604              78.86   \n",
       "3       74.703737               0.337029              81.79   \n",
       "4       47.948952               0.541140              77.16   \n",
       "\n",
       "   Accident_Type_Code  Max_Elevation  Violations  Adverse_Weather_Metric  \\\n",
       "0                   2   31335.476824           3                0.424352   \n",
       "1                   2   26024.711057           2                0.352350   \n",
       "2                   7   39269.053927           3                0.003364   \n",
       "3                   3   42771.499200           1                0.211728   \n",
       "4                   3   35509.228515           2                0.176883   \n",
       "\n",
       "   Accident_ID  \n",
       "0         7570  \n",
       "1        12128  \n",
       "2         2181  \n",
       "3         5946  \n",
       "4         9054  "
      ]
     },
     "execution_count": 15,
     "metadata": {},
     "output_type": "execute_result"
    }
   ],
   "source": [
    "train['Severity'] = factor[0]\n",
    "definitions = factor[1]\n",
    "train.head()"
   ]
  },
  {
   "cell_type": "code",
   "execution_count": 16,
   "metadata": {},
   "outputs": [],
   "source": [
    "# Combining Train and Test Data\n",
    "train['is_train'] = 1\n",
    "test['is_train'] = 0"
   ]
  },
  {
   "cell_type": "code",
   "execution_count": 17,
   "metadata": {},
   "outputs": [],
   "source": [
    "train_drop = train.drop('Severity',axis = 1)\n",
    "comb = pd.concat([train_drop, test])"
   ]
  },
  {
   "cell_type": "code",
   "execution_count": 18,
   "metadata": {},
   "outputs": [],
   "source": [
    "# Temperature in kelvin\n",
    "comb['Cabin_Temperature_kelvin'] = (comb['Cabin_Temperature'] - 32) * 5/9 + 273.15\n",
    "# log transformation\n",
    "comb['Turbulence_In_gforces_log'] = np.log(comb['Turbulence_In_gforces'])\n",
    "comb['Adverse_Weather_Metric_log'] = np.log(comb['Adverse_Weather_Metric'])\n",
    "# Converting to Binary\n",
    "comb['Safety_Score_low'] =np.where(comb['Safety_Score'] < 10, 1 , 0)\n",
    "comb['Days_Since_Inspection_high'] = np.where(comb['Days_Since_Inspection'] > 20, 1 , 0)\n",
    "comb['Total_Safety_Complaints_high'] = np.where(comb['Total_Safety_Complaints'] > 40, 1 , 0)\n",
    "comb['Max_Elevation_high'] = np.where(comb['Max_Elevation'] > 45000, 1 , 0)\n",
    "comb['Max_Elevation_low'] = np.where(comb['Max_Elevation'] < 5000, 1 , 0)\n",
    "comb['Adverse_Weather_Metric_high'] = np.where(comb['Adverse_Weather_Metric'] > 2, 1 , 0)\n",
    "comb['Violations_high'] = np.where(comb['Violations'] > 3, 1 , 0)"
   ]
  },
  {
   "cell_type": "markdown",
   "metadata": {},
   "source": [
    "# Features Selection"
   ]
  },
  {
   "cell_type": "code",
   "execution_count": 19,
   "metadata": {},
   "outputs": [],
   "source": [
    "feats = [col for col in comb.columns if col not in ['Accident_ID','Severity','is_train']]"
   ]
  },
  {
   "cell_type": "code",
   "execution_count": 20,
   "metadata": {},
   "outputs": [],
   "source": [
    "# Splitting the train and test data\n",
    "X_train = comb.loc[comb.is_train == 1, feats]\n",
    "X_test = comb.loc[comb.is_train == 0, feats]\n",
    "y_train = train.Severity"
   ]
  },
  {
   "cell_type": "code",
   "execution_count": 21,
   "metadata": {},
   "outputs": [
    {
     "data": {
      "text/plain": [
       "RandomForestClassifier(bootstrap=True, class_weight=None, criterion='gini',\n",
       "                       max_depth=10, max_features='auto', max_leaf_nodes=None,\n",
       "                       min_impurity_decrease=0.0, min_impurity_split=None,\n",
       "                       min_samples_leaf=1, min_samples_split=2,\n",
       "                       min_weight_fraction_leaf=0.0, n_estimators=500,\n",
       "                       n_jobs=None, oob_score=False, random_state=42, verbose=0,\n",
       "                       warm_start=False)"
      ]
     },
     "execution_count": 21,
     "metadata": {},
     "output_type": "execute_result"
    }
   ],
   "source": [
    "# Fitting a Random Forest Classifier\n",
    "from sklearn.ensemble import RandomForestClassifier\n",
    "classifier = RandomForestClassifier(n_estimators = 500, max_depth = 10, random_state = 42)\n",
    "classifier.fit(X_train, y_train)\n"
   ]
  },
  {
   "cell_type": "code",
   "execution_count": 22,
   "metadata": {},
   "outputs": [
    {
     "data": {
      "text/plain": [
       "0.9095"
      ]
     },
     "execution_count": 22,
     "metadata": {},
     "output_type": "execute_result"
    }
   ],
   "source": [
    "classifier.score(X_train, y_train) "
   ]
  },
  {
   "cell_type": "code",
   "execution_count": 24,
   "metadata": {},
   "outputs": [],
   "source": [
    "importances = classifier.feature_importances_\n",
    "indices = np.argsort(importances)"
   ]
  },
  {
   "cell_type": "code",
   "execution_count": 25,
   "metadata": {},
   "outputs": [
    {
     "data": {
      "image/png": "[encoded data removed]",
      "text/plain": [
       "<Figure size 432x288 with 1 Axes>"
      ]
     },
     "metadata": {
      "needs_background": "light"
     },
     "output_type": "display_data"
    }
   ],
   "source": [
    "plt.barh(range(len(indices)), importances[indices], color='b', align='center')\n",
    "plt.yticks(range(len(indices)), [feats[i] for i in indices])\n",
    "plt.xlabel('Relative Importance')\n",
    "plt.title('Feature Importances')\n",
    "plt.show()"
   ]
  },
  {
   "cell_type": "code",
   "execution_count": 26,
   "metadata": {},
   "outputs": [],
   "source": [
    "imp_feats = ['Safety_Score','Control_Metric','Days_Since_Inspection','Accident_Type_Code','Adverse_Weather_Metric_log','Turbulence_In_gforces_log']"
   ]
  },
  {
   "cell_type": "markdown",
   "metadata": {},
   "source": [
    "## Random Forest Classifier"
   ]
  },
  {
   "cell_type": "code",
   "execution_count": 27,
   "metadata": {},
   "outputs": [],
   "source": [
    "X_train = comb.loc[comb.is_train == 1, imp_feats]\n",
    "X_test = comb.loc[comb.is_train == 0, imp_feats]\n",
    "y_train = train.Severity"
   ]
  },
  {
   "cell_type": "markdown",
   "metadata": {},
   "source": [
    "#  Grid Search CV"
   ]
  },
  {
   "cell_type": "code",
   "execution_count": 28,
   "metadata": {},
   "outputs": [],
   "source": [
    "from sklearn.model_selection import GridSearchCV"
   ]
  },
  {
   "cell_type": "code",
   "execution_count": 29,
   "metadata": {},
   "outputs": [],
   "source": [
    "param_grid = {\n",
    "    'max_depth' : [8,9,10],\n",
    "    'n_estimators': [600, 800, 1000]\n",
    "}"
   ]
  },
  {
   "cell_type": "code",
   "execution_count": 30,
   "metadata": {},
   "outputs": [
    {
     "name": "stdout",
     "output_type": "stream",
     "text": [
      "Fitting 3 folds for each of 9 candidates, totalling 27 fits\n"
     ]
    },
    {
     "name": "stderr",
     "output_type": "stream",
     "text": [
      "[Parallel(n_jobs=-1)]: Using backend LokyBackend with 8 concurrent workers.\n",
      "[Parallel(n_jobs=-1)]: Done  27 out of  27 | elapsed:  1.6min finished\n"
     ]
    },
    {
     "data": {
      "text/plain": [
       "{'max_depth': 10, 'max_features': 5, 'n_estimators': 1000}"
      ]
     },
     "execution_count": 30,
     "metadata": {},
     "output_type": "execute_result"
    }
   ],
   "source": [
    "# Create a based model\n",
    "rf = RandomForestClassifier()\n",
    "# Instantiate the grid search model\n",
    "grid_search = GridSearchCV(estimator = rf, param_grid = param_grid, \n",
    "                          cv = 3, n_jobs = -1, verbose = 2)\n",
    "# Fit the grid search to the data\n",
    "grid_search.fit(X_train, y_train)\n",
    "grid_search.best_params_\n",
    "## Gives this optimal output after 15 mins of running\n",
    "{'max_depth': 10, 'max_features': 5, 'n_estimators': 1000}"
   ]
  },
  {
   "cell_type": "code",
   "execution_count": 31,
   "metadata": {},
   "outputs": [
    {
     "data": {
      "text/plain": [
       "RandomForestClassifier(bootstrap=True, class_weight=None, criterion='gini',\n",
       "                       max_depth=10, max_features=5, max_leaf_nodes=None,\n",
       "                       min_impurity_decrease=0.0, min_impurity_split=None,\n",
       "                       min_samples_leaf=1, min_samples_split=2,\n",
       "                       min_weight_fraction_leaf=0.0, n_estimators=1000,\n",
       "                       n_jobs=None, oob_score=False, random_state=42, verbose=0,\n",
       "                       warm_start=False)"
      ]
     },
     "execution_count": 31,
     "metadata": {},
     "output_type": "execute_result"
    }
   ],
   "source": [
    "classifier = RandomForestClassifier(n_estimators = 1000, max_depth = 10, max_features = 5, random_state = 42)\n",
    "classifier.fit(X_train, y_train)"
   ]
  },
  {
   "cell_type": "code",
   "execution_count": 32,
   "metadata": {},
   "outputs": [
    {
     "data": {
      "text/plain": [
       "0.9768"
      ]
     },
     "execution_count": 32,
     "metadata": {},
     "output_type": "execute_result"
    }
   ],
   "source": [
    "## We again find the performance score for our model,\n",
    "classifier.score(X_train, y_train)  "
   ]
  },
  {
   "cell_type": "code",
   "execution_count": 33,
   "metadata": {},
   "outputs": [],
   "source": [
    "# Predicting the Test set results\n",
    "y_train_pred = classifier.predict(X_train)\n",
    "y_test_pred = classifier.predict(X_test)"
   ]
  },
  {
   "cell_type": "code",
   "execution_count": 34,
   "metadata": {},
   "outputs": [],
   "source": [
    "def inv_transform(y):\n",
    "    \n",
    "    reversefactor = dict(zip(range(len(definitions)),definitions))\n",
    "    return np.vectorize(reversefactor.get)(y)"
   ]
  },
  {
   "cell_type": "markdown",
   "metadata": {},
   "source": [
    "## Submission"
   ]
  },
  {
   "cell_type": "code",
   "execution_count": 35,
   "metadata": {},
   "outputs": [
    {
     "data": {
      "text/html": [
       "<div>\n",
       "<style scoped>\n",
       "    .dataframe tbody tr th:only-of-type {\n",
       "        vertical-align: middle;\n",
       "    }\n",
       "\n",
       "    .dataframe tbody tr th {\n",
       "        vertical-align: top;\n",
       "    }\n",
       "\n",
       "    .dataframe thead th {\n",
       "        text-align: right;\n",
       "    }\n",
       "</style>\n",
       "<table border=\"1\" class=\"dataframe\">\n",
       "  <thead>\n",
       "    <tr style=\"text-align: right;\">\n",
       "      <th></th>\n",
       "      <th>Accident_ID</th>\n",
       "      <th>Severity</th>\n",
       "    </tr>\n",
       "  </thead>\n",
       "  <tbody>\n",
       "    <tr>\n",
       "      <th>0</th>\n",
       "      <td>1</td>\n",
       "      <td>3</td>\n",
       "    </tr>\n",
       "    <tr>\n",
       "      <th>1</th>\n",
       "      <td>10</td>\n",
       "      <td>1</td>\n",
       "    </tr>\n",
       "    <tr>\n",
       "      <th>2</th>\n",
       "      <td>14</td>\n",
       "      <td>2</td>\n",
       "    </tr>\n",
       "    <tr>\n",
       "      <th>3</th>\n",
       "      <td>17</td>\n",
       "      <td>3</td>\n",
       "    </tr>\n",
       "    <tr>\n",
       "      <th>4</th>\n",
       "      <td>21</td>\n",
       "      <td>1</td>\n",
       "    </tr>\n",
       "  </tbody>\n",
       "</table>\n",
       "</div>"
      ],
      "text/plain": [
       "   Accident_ID  Severity\n",
       "0            1         3\n",
       "1           10         1\n",
       "2           14         2\n",
       "3           17         3\n",
       "4           21         1"
      ]
     },
     "execution_count": 35,
     "metadata": {},
     "output_type": "execute_result"
    }
   ],
   "source": [
    "submit = pd.DataFrame({\"Accident_ID\":test.Accident_ID,\"Severity\":pd.Series(y_test_pred)})\n",
    "submit.head()"
   ]
  },
  {
   "cell_type": "code",
   "execution_count": null,
   "metadata": {},
   "outputs": [],
   "source": []
  }
 ],
 "metadata": {
  "kernelspec": {
   "display_name": "Python 3",
   "language": "python",
   "name": "python3"
  },
  "language_info": {
   "codemirror_mode": {
    "name": "ipython",
    "version": 3
   },
   "file_extension": ".py",
   "mimetype": "text/x-python",
   "name": "python",
   "nbconvert_exporter": "python",
   "pygments_lexer": "ipython3",
   "version": "3.7.3"
  }
 },
 "nbformat": 4,
 "nbformat_minor": 2
}
